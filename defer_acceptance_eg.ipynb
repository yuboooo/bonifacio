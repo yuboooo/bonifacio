{
 "cells": [
  {
   "cell_type": "code",
   "execution_count": 1,
   "metadata": {},
   "outputs": [],
   "source": [
    "from defer_acceptance import defer_acceptance"
   ]
  },
  {
   "cell_type": "code",
   "execution_count": 2,
   "metadata": {},
   "outputs": [
    {
     "data": {
      "text/plain": [
       "'\\nPf1 :w1w2,w1w5,w2w5,w1w3,w4w5,w2w4,w1w4,w3w4,w3w5,w2w3,w1,w4,w3,w2,w5 \\nPf2 :w3w6,w3w5,w5w6,w2w5,w1w3,w2w6,w1w5,w1w2,w2w3,w1w6,w1,w2,w3,w5,w6 \\nPf3 :w2w4,w1w2,w3w4,w2w3,w1w3,w1w4,w1,w2,w3,w4\\nPw1 : f3, f1, f2\\nPw2 : f2f3, f1f3, f1f2, f1, f2, f3 \\nPw3 : f1, f2\\nPw4 : f1, f3, f2\\nPw5 : f2, f3\\nPw6 :f1f3,f3,f1\\n\\nμF= f1   f2   f3   ∅    μW= f1   f2   f3   ∅\\n    w1w2 w3w5 w2w4 w6       w3w4 w2w5 w1w2 w6\\n\\n'"
      ]
     },
     "execution_count": 2,
     "metadata": {},
     "output_type": "execute_result"
    }
   ],
   "source": [
    "\n",
    "\"\"\"\n",
    "Pf1 :w1w2,w1w5,w2w5,w1w3,w4w5,w2w4,w1w4,w3w4,w3w5,w2w3,w1,w4,w3,w2,w5 \n",
    "Pf2 :w3w6,w3w5,w5w6,w2w5,w1w3,w2w6,w1w5,w1w2,w2w3,w1w6,w1,w2,w3,w5,w6 \n",
    "Pf3 :w2w4,w1w2,w3w4,w2w3,w1w3,w1w4,w1,w2,w3,w4\n",
    "Pw1 : f3, f1, f2\n",
    "Pw2 : f2f3, f1f3, f1f2, f1, f2, f3 \n",
    "Pw3 : f1, f2\n",
    "Pw4 : f1, f3, f2\n",
    "Pw5 : f2, f3\n",
    "Pw6 :f1f3,f3,f1\n",
    "\n",
    "μF= f1   f2   f3   ∅    μW= f1   f2   f3   ∅\n",
    "    w1w2 w3w5 w2w4 w6       w3w4 w2w5 w1w2 w6\n",
    "\n",
    "\"\"\"\n"
   ]
  },
  {
   "cell_type": "code",
   "execution_count": 3,
   "metadata": {},
   "outputs": [
    {
     "name": "stdout",
     "output_type": "stream",
     "text": [
      "E.g.1 - Paper's Eg: \n",
      "\n",
      "Firms proposing result:\n",
      " Male Matches: {1: [1, 2], 2: [3, 5], 3: [2, 4]} (uf) \n",
      " Female Matches: {1: [1], 2: [1, 3], 3: [2], 4: [3], 5: [2]}\n",
      "\n",
      "Workers proposing result:\n",
      " Male Matches: {1: [3], 2: [2, 3], 3: [1], 4: [1], 5: [2]} \n",
      " Female Matches: {1: [3, 4], 2: [2, 5], 3: [1, 2]} (uw)\n"
     ]
    }
   ],
   "source": [
    "# E.g.1 - Paper's Eg\n",
    "\n",
    "print(\"E.g.1 - Paper's Eg: \\n\")\n",
    "\n",
    "firms_prefs = {\n",
    "                        1: [[1,2],[1,5],[2,5],[1,3],[4,5],[2,4],[1,4],[3,4],[3,5],[2,3],[1],[4],[3],[2],[5]],\n",
    "                        2: [[3,6],[3,5],[5,6],[2,5],[1,3],[2,6],[1,5],[1,2],[2,3],[1,6],[1],[2],[3],[5],[6]],\n",
    "                        3: [[2,4],[1,2],[3,4],[2,3],[1,3],[1,4],[1],[2],[3],[4]]\n",
    "              }\n",
    "\n",
    "workers_prefs = {\n",
    "                        1: [[3],[1],[2]],\n",
    "                        2: [[2,3],[1,3],[1,2],[1],[2],[3]],\n",
    "                        3: [[1],[2]],\n",
    "                        4: [[1],[3],[2]],\n",
    "                        5: [[2],[3]],\n",
    "                        6: [[1,3],[3],[1]]\n",
    "                }\n",
    "# 1. firms proposing:\n",
    "m, f = defer_acceptance(males_prefs=firms_prefs, females_prefs=workers_prefs)\n",
    "print(f'Firms proposing result:\\n Male Matches: {m} (uf) \\n Female Matches: {f}\\n' )\n",
    "# 2. workers proposing:\n",
    "m, f = defer_acceptance(males_prefs=workers_prefs, females_prefs=firms_prefs)\n",
    "print(f'Workers proposing result:\\n Male Matches: {m} \\n Female Matches: {f} (uw)' )\n"
   ]
  },
  {
   "cell_type": "code",
   "execution_count": 4,
   "metadata": {},
   "outputs": [
    {
     "name": "stdout",
     "output_type": "stream",
     "text": [
      "E.g.2 - delete f1 from w1's preference list: \n",
      "\n",
      "Firms proposing result:\n",
      " Male Matches: {1: [2, 4], 2: [3, 5], 3: [1, 2]} (uf) \n",
      " Female Matches: {1: [3], 2: [1, 3], 3: [2], 4: [1], 5: [2]}\n",
      "\n",
      "Workers proposing result:\n",
      " Male Matches: {1: [3], 2: [2, 3], 3: [1], 4: [1], 5: [2]} \n",
      " Female Matches: {1: [3, 4], 2: [2, 5], 3: [1, 2]} (uw)\n"
     ]
    }
   ],
   "source": [
    "# E.g.2 - delete f1 from w1's preference list\n",
    "\n",
    "print(\"E.g.2 - delete f1 from w1's preference list: \\n\")\n",
    "\n",
    "firms_prefs = {\n",
    "                        1: [[1,2],[1,5],[2,5],[1,3],[4,5],[2,4],[1,4],[3,4],[3,5],[2,3],[1],[4],[3],[2],[5]],\n",
    "                        2: [[3,6],[3,5],[5,6],[2,5],[1,3],[2,6],[1,5],[1,2],[2,3],[1,6],[1],[2],[3],[5],[6]],\n",
    "                        3: [[2,4],[1,2],[3,4],[2,3],[1,3],[1,4],[1],[2],[3],[4]]\n",
    "              }\n",
    "\n",
    "workers_prefs = {\n",
    "                        1: [[3],[2]],\n",
    "                        2: [[2,3],[1,3],[1,2],[1],[2],[3]],\n",
    "                        3: [[1],[2]],\n",
    "                        4: [[1],[3],[2]],\n",
    "                        5: [[2],[3]],\n",
    "                        6: [[1,3],[3],[1]]\n",
    "                }\n",
    "\n",
    "# 1. firms proposing:\n",
    "m, f = defer_acceptance(males_prefs=firms_prefs, females_prefs=workers_prefs)\n",
    "print(f'Firms proposing result:\\n Male Matches: {m} (uf) \\n Female Matches: {f}' )\n",
    "\n",
    "print()\n",
    "\n",
    "# 2. workers proposing:\n",
    "m, f = defer_acceptance(males_prefs=workers_prefs, females_prefs=firms_prefs)\n",
    "print(f'Workers proposing result:\\n Male Matches: {m} \\n Female Matches: {f} (uw)' )\n"
   ]
  },
  {
   "cell_type": "code",
   "execution_count": 5,
   "metadata": {},
   "outputs": [
    {
     "name": "stdout",
     "output_type": "stream",
     "text": [
      "E.g.3 - Delete f1 from w2's preference list: \n",
      "\n",
      "Firms proposing result:\n",
      " Male Matches: {1: [1, 3], 2: [2, 5], 3: [2, 4]} (uf) \n",
      " Female Matches: {1: [1], 2: [2, 3], 3: [1], 4: [3], 5: [2]}\n",
      "\n",
      "Workers proposing result:\n",
      " Male Matches: {1: [3], 2: [2, 3], 3: [1], 4: [1], 5: [2]} \n",
      " Female Matches: {1: [3, 4], 2: [2, 5], 3: [1, 2]} (uw)\n"
     ]
    }
   ],
   "source": [
    "# E.g.3: delete f1 from w2's preference list\n",
    "\n",
    "print(\"E.g.3 - Delete f1 from w2's preference list: \\n\")\n",
    "\n",
    "firms_prefs = {\n",
    "                        1: [[1,2],[1,5],[2,5],[1,3],[4,5],[2,4],[1,4],[3,4],[3,5],[2,3],[1],[4],[3],[2],[5]],\n",
    "                        2: [[3,6],[3,5],[5,6],[2,5],[1,3],[2,6],[1,5],[1,2],[2,3],[1,6],[1],[2],[3],[5],[6]],\n",
    "                        3: [[2,4],[1,2],[3,4],[2,3],[1,3],[1,4],[1],[2],[3],[4]]\n",
    "              }\n",
    "\n",
    "workers_prefs = {\n",
    "                        1: [[3],[1],[2]],\n",
    "                        2: [[2,3],[1,3],[1,2],[2],[3]],\n",
    "                        3: [[1],[2]],\n",
    "                        4: [[1],[3],[2]],\n",
    "                        5: [[2],[3]],\n",
    "                        6: [[1,3],[3],[1]]\n",
    "                }\n",
    "\n",
    "# 1. firms proposing:\n",
    "m, f = defer_acceptance(males_prefs=firms_prefs, females_prefs=workers_prefs)\n",
    "print(f'Firms proposing result:\\n Male Matches: {m} (uf) \\n Female Matches: {f}' )\n",
    "\n",
    "print()\n",
    "\n",
    "# 2. workers proposing:\n",
    "m, f = defer_acceptance(males_prefs=workers_prefs, females_prefs=firms_prefs)\n",
    "print(f'Workers proposing result:\\n Male Matches: {m} \\n Female Matches: {f} (uw)' )\n"
   ]
  },
  {
   "cell_type": "code",
   "execution_count": 6,
   "metadata": {},
   "outputs": [
    {
     "name": "stdout",
     "output_type": "stream",
     "text": [
      "E.g.4 - Normal 1-1 DA eg: \n",
      "\n",
      "Firms proposing result:\n",
      " Male Matches: {1: [1], 2: [4], 3: [3], 4: [2]} (uf) \n",
      " Female Matches: {1: [1], 2: [4], 3: [3], 4: [2]}\n",
      "\n",
      "Workers proposing result:\n",
      " Male Matches: {1: [1], 2: [4], 3: [3], 4: [2]} \n",
      " Female Matches: {1: [1], 2: [4], 3: [3], 4: [2]} (uw)\n"
     ]
    }
   ],
   "source": [
    "# E.g.4 - Normal 1-1 DA eg:\n",
    "\n",
    "print(\"E.g.4 - Normal 1-1 DA eg: \\n\")\n",
    "\n",
    "firms_prefs = {\n",
    "                        1: [[1],[3],[2],[4]],\n",
    "                        2: [[4],[3],[1],[2]],\n",
    "                        3: [[3],[1],[4],[2]],\n",
    "                        4: [[1],[2],[3],[4]]\n",
    "              }\n",
    "\n",
    "workers_prefs = {\n",
    "                        1: [[1],[4],[3],[2]],\n",
    "                        2: [[3],[2],[1],[4]],\n",
    "                        3: [[1],[3],[2],[4]],\n",
    "                        4: [[1],[2],[3],[4]]\n",
    "                }\n",
    "\n",
    "# 1. firms proposing:\n",
    "m, f = defer_acceptance(males_prefs=firms_prefs, females_prefs=workers_prefs, one_to_one=True)\n",
    "print(f'Firms proposing result:\\n Male Matches: {m} (uf) \\n Female Matches: {f}' )\n",
    "\n",
    "print()\n",
    "\n",
    "# 2. workers proposing:\n",
    "m, f = defer_acceptance(males_prefs=workers_prefs, females_prefs=firms_prefs, one_to_one=True)\n",
    "print(f'Workers proposing result:\\n Male Matches: {m} \\n Female Matches: {f} (uw)' )\n"
   ]
  },
  {
   "cell_type": "code",
   "execution_count": 7,
   "metadata": {},
   "outputs": [
    {
     "name": "stdout",
     "output_type": "stream",
     "text": [
      "E.g.5 - Paper 1-1 DA eg: \n",
      "\n",
      "Firms proposing result:\n",
      " Male Matches: {1: [1], 2: [2], 3: [4], 4: [3]} (uf) \n",
      " Female Matches: {1: [1], 2: [2], 3: [4], 4: [3]}\n",
      "\n",
      "Workers proposing result:\n",
      " Male Matches: {1: [2], 2: [4], 3: [3], 4: [1]} \n",
      " Female Matches: {1: [4], 2: [1], 3: [3], 4: [2]} (uw)\n"
     ]
    }
   ],
   "source": [
    "# E.g.5 - Paper one_to_one eg:\n",
    "\n",
    "print(\"E.g.5 - Paper 1-1 DA eg: \\n\")\n",
    "\n",
    "firms_prefs = {\n",
    "                        1: [[2],[1],[3],[4]],\n",
    "                        2: [[4],[2],[3],[1]],\n",
    "                        3: [[4],[2],[3],[1]],\n",
    "                        4: [[3],[1],[4],[2]]\n",
    "              }\n",
    "\n",
    "workers_prefs = {\n",
    "                        1: [[2],[1],[4],[3]],\n",
    "                        2: [[4],[3],[2],[1]],\n",
    "                        3: [[3],[1],[4],[2]],\n",
    "                        4: [[1],[3],[4],[2]]\n",
    "                }\n",
    "\n",
    "# 1. firms proposing:\n",
    "m, f = defer_acceptance(males_prefs=firms_prefs, females_prefs=workers_prefs, one_to_one=True)\n",
    "print(f'Firms proposing result:\\n Male Matches: {m} (uf) \\n Female Matches: {f}' )\n",
    "\n",
    "print()\n",
    "\n",
    "# 2. workers proposing:\n",
    "m, f = defer_acceptance(males_prefs=workers_prefs, females_prefs=firms_prefs, one_to_one=True)\n",
    "print(f'Workers proposing result:\\n Male Matches: {m} \\n Female Matches: {f} (uw)' )"
   ]
  }
 ],
 "metadata": {
  "kernelspec": {
   "display_name": "Python 3.8.10 64-bit",
   "language": "python",
   "name": "python3"
  },
  "language_info": {
   "codemirror_mode": {
    "name": "ipython",
    "version": 3
   },
   "file_extension": ".py",
   "mimetype": "text/x-python",
   "name": "python",
   "nbconvert_exporter": "python",
   "pygments_lexer": "ipython3",
   "version": "3.8.10"
  },
  "orig_nbformat": 4,
  "vscode": {
   "interpreter": {
    "hash": "aee8b7b246df8f9039afb4144a1f6fd8d2ca17a180786b69acc140d282b71a49"
   }
  }
 },
 "nbformat": 4,
 "nbformat_minor": 2
}
