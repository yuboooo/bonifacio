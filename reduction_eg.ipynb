{
 "cells": [
  {
   "cell_type": "code",
   "execution_count": 1,
   "metadata": {},
   "outputs": [],
   "source": [
    "# imports\n",
    "from da import defer_acceptance\n",
    "from copy import deepcopy"
   ]
  },
  {
   "cell_type": "code",
   "execution_count": 2,
   "metadata": {},
   "outputs": [
    {
     "data": {
      "text/plain": [
       "'\\nBefore Reduction:\\n    Pf1 : w1w2, w1w5, w2w5, w1w3, w4w5, w2w4, w1w4, w3w4, w3w5, w2w3, w1, w4, w3, w2, w5\\n    Pf2 : w3w6, w3w5, w5w6, w2w5, w1w3, w2w6, w1w5, w1w2, w2w3, w1w6, w1, w2, w3, w5, w6\\n    Pf3 : w2w4, w1w2, w3w4, w2w3, w1w3, w1w4, w1, w2, w3, w4\\n    Pw1 : f3, f1, f2\\n    Pw2 : f2 f3, f1 f3, f1 f2, f1, f2, f3\\n    Pw3 : f1, f2\\n    Pw4 : f1, f3, f2\\n    Pw5 : f2, f3\\n    Pw6 : f1 f3, f3, f1\\n\\nAfter Reduction:\\n    PμFf1: w1w2, w1w3, w2w4, w1w4,w3w4, w2w3, w1, w4, w3, w2\\n    PμFf2: w3w5,w2w5, w2w3, w2, w3, w5\\n    PμFf3: w2w4,w1w2, w1w4, w1, w2, w3, w4\\n    PμFw1 : f3, f1\\n    PμFw2 : f2 f3, f1 f3, f1 f2, f1, f2, f3\\n    PμFw3 : f1, f2\\n    PμFw4 : f1, f3\\n    PμFw5 : f2\\n    PμFw6 : Æ\\n'"
      ]
     },
     "execution_count": 2,
     "metadata": {},
     "output_type": "execute_result"
    }
   ],
   "source": [
    "'''\n",
    "Before Reduction:\n",
    "    Pf1 : w1w2, w1w5, w2w5, w1w3, w4w5, w2w4, w1w4, w3w4, w3w5, w2w3, w1, w4, w3, w2, w5\n",
    "    Pf2 : w3w6, w3w5, w5w6, w2w5, w1w3, w2w6, w1w5, w1w2, w2w3, w1w6, w1, w2, w3, w5, w6\n",
    "    Pf3 : w2w4, w1w2, w3w4, w2w3, w1w3, w1w4, w1, w2, w3, w4\n",
    "    Pw1 : f3, f1, f2\n",
    "    Pw2 : f2 f3, f1 f3, f1 f2, f1, f2, f3\n",
    "    Pw3 : f1, f2\n",
    "    Pw4 : f1, f3, f2\n",
    "    Pw5 : f2, f3\n",
    "    Pw6 : f1 f3, f3, f1\n",
    "\n",
    "After Reduction:\n",
    "    PμFf1: w1w2, w1w3, w2w4, w1w4,w3w4, w2w3, w1, w4, w3, w2\n",
    "    PμFf2: w3w5,w2w5, w2w3, w2, w3, w5\n",
    "    PμFf3: w2w4,w1w2, w1w4, w1, w2, w3, w4\n",
    "    PμFw1 : f3, f1\n",
    "    PμFw2 : f2 f3, f1 f3, f1 f2, f1, f2, f3\n",
    "    PμFw3 : f1, f2\n",
    "    PμFw4 : f1, f3\n",
    "    PμFw5 : f2\n",
    "    PμFw6 : Æ\n",
    "'''"
   ]
  },
  {
   "cell_type": "code",
   "execution_count": 3,
   "metadata": {},
   "outputs": [
    {
     "data": {
      "text/plain": [
       "'\\nReduction Step 1:\\n    In Step 1 (a), for each\\n    f ∈ F, if a worker is not in μ( f ) but belongs to a subset that is Blair-preferred to\\n    μ( f ), the procedure eliminates each subset that contains this worker from firm f ’s list\\n    of acceptable subsets. Step 1 (b) performs an analogous elimination in each worker’s\\n    preference list.\\n'"
      ]
     },
     "execution_count": 3,
     "metadata": {},
     "output_type": "execute_result"
    }
   ],
   "source": [
    "'''\n",
    "Reduction Step 1:\n",
    "    In Step 1 (a), for each\n",
    "    f ∈ F, if a worker is not in μ( f ) but belongs to a subset that is Blair-preferred to\n",
    "    μ( f ), the procedure eliminates each subset that contains this worker from firm f ’s list\n",
    "    of acceptable subsets. Step 1 (b) performs an analogous elimination in each worker’s\n",
    "    preference list.\n",
    "'''\n",
    "# Before step 1: Pf2 : w3w6, w3w5, w5w6, w2w5, w1w3, w2w6, w1w5, w1w2, w2w3, w1w6, w1, w2, w3, w5, w6\n",
    "# After step 1: Pf2 : w3w5, w2w5, w1w3, w1w5, w1w2, w2w3, w1, w2, w3, w5\n",
    "# Remove: w3w6, w5w6, w2w6, w1w6, w6 - All subset including w6"
   ]
  },
  {
   "cell_type": "code",
   "execution_count": 82,
   "metadata": {},
   "outputs": [],
   "source": [
    "# Return subsets assigned in the optimal stable matchings\n",
    "def get_u(u1, u2):\n",
    "    u_temp = [u1, u2]\n",
    "    u = {}\n",
    "    for k in u2.keys():\n",
    "        u[k] = tuple(u[k] for u in u_temp)\n",
    "    return u\n",
    "\n",
    "# return dictionary where value is a set(list)\n",
    "def get_u_sets(u):\n",
    "    u_sets = {}\n",
    "    for k in u.keys():\n",
    "        lst = list(u[k])\n",
    "        u_sets[k] = list(set(lst[0] + lst[1]))\n",
    "    return u_sets\n",
    "\n",
    "# sets --> 2-d array(value of preference dictionary); set1/set2 --> 1-d array\n",
    "def blair_preferred(sets, set1, set2):\n",
    "    if sets.index(set1) < sets.index(set2):\n",
    "        return True\n",
    "    return False\n",
    "\n",
    "# u_sets --> array(value of u_sets); sets --> array\n",
    "def set_in_u(u_set, sets):\n",
    "    for s in sets:\n",
    "        if s not in u_set:\n",
    "            return True\n",
    "    return False\n",
    "\n",
    "def reduction_step1_step2(firms_prefs, workers_prefs):\n",
    "\n",
    "    uf1, uw1 = defer_acceptance(males_prefs=deepcopy(firms_prefs), females_prefs=deepcopy(workers_prefs)) # DA - firms proposing\n",
    "    uw2, uf2 = defer_acceptance(males_prefs=deepcopy(workers_prefs), females_prefs=deepcopy(firms_prefs)) # DA - workers proposing\n",
    "    uf = get_u(uf1, uf2)\n",
    "    uw = get_u(uw2, uw1)\n",
    "    uf_sets = get_u_sets(uf)\n",
    "    uw_sets = get_u_sets(uw)\n",
    "\n",
    "    # Step 1 and Step 2 of reduction for one side\n",
    "    # Output: preference list after reduction\n",
    "    def reduction_for_oneside(preference_lists, u_sets, u1, u2):\n",
    "        delete = {}\n",
    "        for keys, values in preference_lists.items():\n",
    "            for value in values:\n",
    "                for v in value:\n",
    "                    if keys in u_sets:\n",
    "                        # Step 1:\n",
    "                        if v not in u_sets[keys] and blair_preferred(preference_lists[keys], value, u1[keys]):\n",
    "                            if keys not in delete:\n",
    "                                delete[keys] = [v]\n",
    "                            else:\n",
    "                                if v not in delete[keys]:\n",
    "                                    delete[keys].append(v)\n",
    "\n",
    "                        # Step 2:\n",
    "                        elif v not in u_sets[keys] and blair_preferred(preference_lists[keys], u2[keys], value):\n",
    "                            if keys not in delete:\n",
    "                                delete[keys] = [v]\n",
    "                            else:\n",
    "                                if v not in delete[keys]:\n",
    "                                    delete[keys].append(v)\n",
    "\n",
    "        return delete\n",
    "    # Reduction on firms' side:\n",
    "    delete_workers = reduction_for_oneside(firms_prefs, uf_sets, uf1, uf2)\n",
    "    # Reduction on workers' side:\n",
    "    delete_firms = reduction_for_oneside(workers_prefs, uw_sets, uw2, uw1)\n",
    "\n",
    "    def delete_sets(preference_lists, delete):\n",
    "        new_preference_lists = deepcopy(preference_lists)\n",
    "        for keys, values in preference_lists.items():\n",
    "            \n",
    "            for value in values:\n",
    "                if keys in delete:\n",
    "                    for v in delete[keys]:\n",
    "                        if v in value and value in new_preference_lists[keys]:\n",
    "                            new_preference_lists[keys].remove(value)\n",
    "        return new_preference_lists\n",
    "    \n",
    "    new_firms = delete_sets(firms_prefs, delete_workers)\n",
    "    new_workers = delete_sets(workers_prefs, delete_firms)\n",
    "\n",
    "    return [new_firms, new_workers]\n",
    "\n",
    "def reduction(firms_prefs, workers_prefs):\n",
    "    # Perform reduction step 1 and step 2\n",
    "    new_firms, new_workers = reduction_step1_step2(firms_prefs, workers_prefs)\n",
    "\n",
    "\n"
   ]
  },
  {
   "cell_type": "code",
   "execution_count": 83,
   "metadata": {},
   "outputs": [
    {
     "name": "stdout",
     "output_type": "stream",
     "text": [
      "E.g.1 - Paper's Eg: \n",
      "\n"
     ]
    },
    {
     "data": {
      "text/plain": [
       "[{1: [[1, 2], [1, 3], [2, 4], [1, 4], [3, 4], [2, 3], [1], [4], [3], [2]],\n",
       "  2: [[3, 5], [2, 5], [2, 3], [2], [3], [5]],\n",
       "  3: [[2, 4], [1, 2], [1, 4], [1], [2], [4]]},\n",
       " {1: [[3], [1]],\n",
       "  2: [[2, 3], [1, 3], [1, 2], [1], [2], [3]],\n",
       "  3: [[1], [2]],\n",
       "  4: [[1], [3]],\n",
       "  5: [[2]],\n",
       "  6: [[1, 3], [3], [1]]}]"
      ]
     },
     "execution_count": 83,
     "metadata": {},
     "output_type": "execute_result"
    }
   ],
   "source": [
    "# E.g.1 - Paper's Eg\n",
    "\n",
    "print(\"E.g.1 - Paper's Eg: \\n\")\n",
    "\n",
    "firms_prefs = {\n",
    "                        1: [[1,2],[1,5],[2,5],[1,3],[4,5],[2,4],[1,4],[3,4],[3,5],[2,3],[1],[4],[3],[2],[5]],\n",
    "                        2: [[3,6],[3,5],[5,6],[2,5],[1,3],[2,6],[1,5],[1,2],[2,3],[1,6],[1],[2],[3],[5],[6]],\n",
    "                        3: [[2,4],[1,2],[3,4],[2,3],[1,3],[1,4],[1],[2],[3],[4]]\n",
    "              }\n",
    "\n",
    "workers_prefs = {\n",
    "                        1: [[3],[1],[2]],\n",
    "                        2: [[2,3],[1,3],[1,2],[1],[2],[3]],\n",
    "                        3: [[1],[2]],\n",
    "                        4: [[1],[3],[2]],\n",
    "                        5: [[2],[3]],\n",
    "                        6: [[1,3],[3],[1]]\n",
    "                }\n",
    "\n",
    "reduction_step1_step2(firms_prefs, workers_prefs)\n",
    "\n"
   ]
  },
  {
   "cell_type": "markdown",
   "metadata": {},
   "source": []
  }
 ],
 "metadata": {
  "kernelspec": {
   "display_name": "Python 3.8.10 64-bit",
   "language": "python",
   "name": "python3"
  },
  "language_info": {
   "codemirror_mode": {
    "name": "ipython",
    "version": 3
   },
   "file_extension": ".py",
   "mimetype": "text/x-python",
   "name": "python",
   "nbconvert_exporter": "python",
   "pygments_lexer": "ipython3",
   "version": "3.8.10"
  },
  "orig_nbformat": 4,
  "vscode": {
   "interpreter": {
    "hash": "aee8b7b246df8f9039afb4144a1f6fd8d2ca17a180786b69acc140d282b71a49"
   }
  }
 },
 "nbformat": 4,
 "nbformat_minor": 2
}
