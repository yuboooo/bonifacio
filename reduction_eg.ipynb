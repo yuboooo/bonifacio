{
 "cells": [
  {
   "cell_type": "code",
   "execution_count": 1,
   "metadata": {},
   "outputs": [],
   "source": [
    "from reduction import reduction"
   ]
  },
  {
   "cell_type": "code",
   "execution_count": 2,
   "metadata": {},
   "outputs": [
    {
     "data": {
      "text/plain": [
       "'\\nBefore Reduction:\\n    Pf1 : w1w2, w1w5, w2w5, w1w3, w4w5, w2w4, w1w4, w3w4, w3w5, w2w3, w1, w4, w3, w2, w5\\n    Pf2 : w3w6, w3w5, w5w6, w2w5, w1w3, w2w6, w1w5, w1w2, w2w3, w1w6, w1, w2, w3, w5, w6\\n    Pf3 : w2w4, w1w2, w3w4, w2w3, w1w3, w1w4, w1, w2, w3, w4\\n    Pw1 : f3, f1, f2\\n    Pw2 : f2 f3, f1 f3, f1 f2, f1, f2, f3\\n    Pw3 : f1, f2\\n    Pw4 : f1, f3, f2\\n    Pw5 : f2, f3\\n    Pw6 : f1 f3, f3, f1\\n\\nAfter Reduction:\\n    PμFf1: w1w2, w1w3, w2w4, w1w4,w3w4, w2w3, w1, w4, w3, w2\\n    PμFf2: w3w5,w2w5, w2w3, w2, w3, w5\\n    PμFf3: w2w4,w1w2, w1w4, w1, w2, w3, w4\\n    PμFw1 : f3, f1\\n    PμFw2 : f2 f3, f1 f3, f1 f2, f1, f2, f3\\n    PμFw3 : f1, f2\\n    PμFw4 : f1, f3\\n    PμFw5 : f2\\n    PμFw6 : Æ\\n'"
      ]
     },
     "execution_count": 2,
     "metadata": {},
     "output_type": "execute_result"
    }
   ],
   "source": [
    "'''\n",
    "Before Reduction:\n",
    "    Pf1 : w1w2, w1w5, w2w5, w1w3, w4w5, w2w4, w1w4, w3w4, w3w5, w2w3, w1, w4, w3, w2, w5\n",
    "    Pf2 : w3w6, w3w5, w5w6, w2w5, w1w3, w2w6, w1w5, w1w2, w2w3, w1w6, w1, w2, w3, w5, w6\n",
    "    Pf3 : w2w4, w1w2, w3w4, w2w3, w1w3, w1w4, w1, w2, w3, w4\n",
    "    Pw1 : f3, f1, f2\n",
    "    Pw2 : f2 f3, f1 f3, f1 f2, f1, f2, f3\n",
    "    Pw3 : f1, f2\n",
    "    Pw4 : f1, f3, f2\n",
    "    Pw5 : f2, f3\n",
    "    Pw6 : f1 f3, f3, f1\n",
    "\n",
    "After Reduction:\n",
    "    PμFf1: w1w2, w1w3, w2w4, w1w4,w3w4, w2w3, w1, w4, w3, w2\n",
    "    PμFf2: w3w5,w2w5, w2w3, w2, w3, w5\n",
    "    PμFf3: w2w4,w1w2, w1w4, w1, w2, w3, w4\n",
    "    PμFw1 : f3, f1\n",
    "    PμFw2 : f2 f3, f1 f3, f1 f2, f1, f2, f3\n",
    "    PμFw3 : f1, f2\n",
    "    PμFw4 : f1, f3\n",
    "    PμFw5 : f2\n",
    "    PμFw6 : Æ\n",
    "'''"
   ]
  },
  {
   "cell_type": "code",
   "execution_count": 3,
   "metadata": {},
   "outputs": [
    {
     "data": {
      "text/plain": [
       "'\\nReduction Step 1:\\n    In Step 1 (a), for each\\n    f ∈ F, if a worker is not in μ( f ) but belongs to a subset that is Blair-preferred to\\n    μ( f ), the procedure eliminates each subset that contains this worker from firm f ’s list\\n    of acceptable subsets. Step 1 (b) performs an analogous elimination in each worker’s\\n    preference list.\\n'"
      ]
     },
     "execution_count": 3,
     "metadata": {},
     "output_type": "execute_result"
    }
   ],
   "source": [
    "'''\n",
    "Reduction Step 1:\n",
    "    In Step 1 (a), for each\n",
    "    f ∈ F, if a worker is not in μ( f ) but belongs to a subset that is Blair-preferred to\n",
    "    μ( f ), the procedure eliminates each subset that contains this worker from firm f ’s list\n",
    "    of acceptable subsets. Step 1 (b) performs an analogous elimination in each worker’s\n",
    "    preference list.\n",
    "'''\n",
    "# Before step 1: Pf2 : w3w6, w3w5, w5w6, w2w5, w1w3, w2w6, w1w5, w1w2, w2w3, w1w6, w1, w2, w3, w5, w6\n",
    "# After step 1: Pf2 : w3w5, w2w5, w1w3, w1w5, w1w2, w2w3, w1, w2, w3, w5\n",
    "# Remove: w3w6, w5w6, w2w6, w1w6, w6 - All subset including w6"
   ]
  },
  {
   "cell_type": "code",
   "execution_count": 4,
   "metadata": {},
   "outputs": [
    {
     "name": "stdout",
     "output_type": "stream",
     "text": [
      "E.g.1 - Paper's Eg: \n",
      "\n"
     ]
    },
    {
     "data": {
      "text/plain": [
       "[{1: [[1, 2], [1, 3], [2, 4], [1, 4], [3, 4], [2, 3], [1], [4], [3], [2]],\n",
       "  2: [[3, 5], [2, 5], [2, 3], [2], [3], [5]],\n",
       "  3: [[2, 4], [1, 2], [1, 4], [1], [2], [4]]},\n",
       " {1: [[3], [1]],\n",
       "  2: [[2, 3], [1, 3], [1, 2], [1], [2], [3]],\n",
       "  3: [[1], [2]],\n",
       "  4: [[1], [3]],\n",
       "  5: [[2]],\n",
       "  6: []}]"
      ]
     },
     "execution_count": 4,
     "metadata": {},
     "output_type": "execute_result"
    }
   ],
   "source": [
    "# E.g.1 - Paper's Eg\n",
    "\n",
    "print(\"E.g.1 - Paper's Eg: \\n\")\n",
    "\n",
    "firms_prefs = {\n",
    "                        1: [[1,2],[1,5],[2,5],[1,3],[4,5],[2,4],[1,4],[3,4],[3,5],[2,3],[1],[4],[3],[2],[5]],\n",
    "                        2: [[3,6],[3,5],[5,6],[2,5],[1,3],[2,6],[1,5],[1,2],[2,3],[1,6],[1],[2],[3],[5],[6]],\n",
    "                        3: [[2,4],[1,2],[3,4],[2,3],[1,3],[1,4],[1],[2],[3],[4]]\n",
    "              }\n",
    "\n",
    "workers_prefs = {\n",
    "                        1: [[3],[1],[2]],\n",
    "                        2: [[2,3],[1,3],[1,2],[1],[2],[3]],\n",
    "                        3: [[1],[2]],\n",
    "                        4: [[1],[3],[2]],\n",
    "                        5: [[2],[3]],\n",
    "                        6: [[1,3],[3],[1]]\n",
    "                }\n",
    "\n",
    "reduction(firms_prefs, workers_prefs)\n"
   ]
  },
  {
   "cell_type": "code",
   "execution_count": 6,
   "metadata": {},
   "outputs": [
    {
     "name": "stdout",
     "output_type": "stream",
     "text": [
      "E.g.2 - Paper's Eg2 - one-to-one DA: \n",
      "\n"
     ]
    },
    {
     "data": {
      "text/plain": [
       "[{1: [[1], [3], [4]], 2: [[2], [1]], 3: [[4], [2], [3]], 4: [[3], [2]]},\n",
       " {1: [[2], [1]], 2: [[4], [3], [2]], 3: [[3], [1], [4]], 4: [[1], [3]]}]"
      ]
     },
     "execution_count": 6,
     "metadata": {},
     "output_type": "execute_result"
    }
   ],
   "source": [
    "# E.g.2 - Paper's Eg2 - one-to-one DA\n",
    "\n",
    "print(\"E.g.2 - Paper's Eg2 - one-to-one DA: \\n\")\n",
    "\n",
    "firms_prefs = {\n",
    "                        1: [[2],[1],[3],[4]],\n",
    "                        2: [[4],[2],[3],[1]],\n",
    "                        3: [[4],[2],[3],[1]],\n",
    "                        4: [[3],[1],[4],[2]]\n",
    "              }\n",
    "\n",
    "workers_prefs = {\n",
    "                        1: [[2],[1],[4],[3]],\n",
    "                        2: [[4],[3],[2],[1]],\n",
    "                        3: [[3],[1],[4],[2]],\n",
    "                        4: [[1],[3],[4],[2]]\n",
    "                }\n",
    "reduction(firms_prefs, workers_prefs, one_to_one=True)"
   ]
  }
 ],
 "metadata": {
  "kernelspec": {
   "display_name": "Python 3.8.10 64-bit",
   "language": "python",
   "name": "python3"
  },
  "language_info": {
   "codemirror_mode": {
    "name": "ipython",
    "version": 3
   },
   "file_extension": ".py",
   "mimetype": "text/x-python",
   "name": "python",
   "nbconvert_exporter": "python",
   "pygments_lexer": "ipython3",
   "version": "3.8.10"
  },
  "orig_nbformat": 4,
  "vscode": {
   "interpreter": {
    "hash": "aee8b7b246df8f9039afb4144a1f6fd8d2ca17a180786b69acc140d282b71a49"
   }
  }
 },
 "nbformat": 4,
 "nbformat_minor": 2
}
