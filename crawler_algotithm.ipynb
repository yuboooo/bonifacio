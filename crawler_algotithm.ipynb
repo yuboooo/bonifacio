{
 "cells": [
  {
   "cell_type": "code",
   "execution_count": 1,
   "id": "3dd5f622",
   "metadata": {},
   "outputs": [],
   "source": [
    "import json\n",
    "import os\n",
    "import numpy as np"
   ]
  },
  {
   "cell_type": "code",
   "execution_count": 66,
   "id": "30e82a0a",
   "metadata": {},
   "outputs": [],
   "source": [
    "def generate_single_peaked_preference(num, peak_id = None):\n",
    "    \"\"\"\n",
    "        input\n",
    "            num: number of agent and items\n",
    "            peak_id: numpy.array of size num\n",
    "                must start from 0\n",
    "        return\n",
    "            rank_list of size num x num \n",
    "             \n",
    "            \n",
    "\n",
    "    \"\"\"\n",
    "    if peak_id is None:\n",
    "        peak_id =np.random.choice(num,num,replace=True)\n",
    "    # sort_id = np.argsort(peak_id)\n",
    "    peak_id = np.expand_dims(peak_id,1)+1\n",
    "    pref = np.repeat(np.expand_dims(np.linspace(1,num,num,dtype=int),0),num,axis=0)\n",
    "    pref = num-np.abs(pref - peak_id)\n",
    "    # break the ties\n",
    "    pref = (np.argsort(pref,axis=-1)+1)[:,::-1]\n",
    "    \n",
    "    return pref\n",
    "\n",
    "\n",
    "def correct_idx(current_match,matches):\n",
    "    store_match = current_match\n",
    "    for match in matches[-1::-1]:\n",
    "        if match[0] <= current_match[0]:\n",
    "            current_match = current_match[0]+1,current_match[1]\n",
    "        if match[1] <= current_match[1]:\n",
    "            current_match = current_match[0],current_match[1]+1\n",
    "    matches.append(store_match)\n",
    "    return current_match, matches\n",
    "\n",
    "def crawler_step(preference,matches):\n",
    "    num_agents,num_items = preference.shape\n",
    "    if num_agents == 0:\n",
    "        return None\n",
    "    # (1) if ot ≻it ot+1 holds for some t, let t∗ be the minimal such t\n",
    "    # this means argmin_t(preference[t,t] > preference[t,t+1])\n",
    "    \n",
    "    # preference[t,t] > preference[t,t+1]\n",
    "    screening = (preference.diagonal(offset=1)-preference.diagonal()[:-1])<0 # agent who (c1) does not want to move to larger one\n",
    "    # check if (1) is possible\n",
    "    if screening.sum() == 0:\n",
    "        t_star = num_agents-1 # if no such agent (c1)\n",
    "    else:\n",
    "        t_star = np.argmax(screening) # if there is such agent (c1)\n",
    "    agent_t_start_choice = np.argmax(preference[t_star]) # the agent's best choice\n",
    "    next_preference = np.delete(preference, t_star, 0) # remove agent from the preference list\n",
    "    next_preference = np.delete(next_preference, agent_t_start_choice, 1) # remove item from the preference list\n",
    "    (t_star,agent_t_start_choice), matches = correct_idx((t_star,agent_t_start_choice),matches=matches) # correct index since the preference list is smaller\n",
    "    return next_preference,t_star,agent_t_start_choice, matches\n",
    "\n",
    "def crawler_algorithm(preference):\n",
    "    \"\"\"\n",
    "        preference: a single-peaked preference list where the higher value means more prefered\n",
    "    \"\"\"\n",
    "    matches = []\n",
    "    result = crawler_step(preference,matches)\n",
    "    preferences = [preference]\n",
    "    preference = result[0]\n",
    "    result_list = [result[1:3]]\n",
    "    while result is not None:\n",
    "        result = crawler_step(preference,matches)\n",
    "        if result is not None:\n",
    "            preference = result[0]\n",
    "            preferences.append(result[0])\n",
    "            matches = result[-1]\n",
    "            result_list.append(result[1:3])\n",
    "    return result_list, preferences\n",
    "\n",
    "def rank_to_score(rank_list):\n",
    "    \"\"\"\n",
    "        rank_list: the value represent the ranking in the preference list\n",
    "        output:\n",
    "            preference where the higher value means more prefered\n",
    "    \"\"\"\n",
    "    return len(rank_list) - np.argsort(np.array(rank_list),axis=-1)\n",
    "\n",
    "def check_single_peaked(preferences):\n",
    "    \"\"\"\n",
    "        preference: a single-peaked preference list where the higher value means more prefered\n",
    "    \"\"\"\n",
    "    peak_id =np.argmax(preferences,axis=-1)\n",
    "    num = len(preferences)\n",
    "    # single_peaked = True\n",
    "    for i,pid in enumerate(peak_id):\n",
    "        if preferences[i][:pid].any(): # if there are elements on the left\n",
    "            # unless every elements are less than the elements on the right\n",
    "            if ((preferences[i][1:pid+1]-preferences[i][:pid])<=0).any():\n",
    "                return False\n",
    "        if preferences[i][pid+1:].any(): # if there are elements on the right\n",
    "            # unless every elements are less than the elements on the left\n",
    "            if ((preferences[i][pid:-1]-preferences[i][pid+1:])<=0).any():\n",
    "                return False\n",
    "    return True\n",
    "\n",
    "def verify_example_1():\n",
    "    peak_id = np.array([7,2,7,6,7,3,5])-1\n",
    "    num = len(peak_id)\n",
    "    preference = np.array([[7, 6, 5, 4, 3, 2, 1],\n",
    "                            [2, 3, 1, 4, 5, 6, 7],\n",
    "                            [7, 6, 5, 4, 3, 2, 1],\n",
    "                            [5, 7, 6, 4, 3, 2, 1],\n",
    "                            [7, 6, 5, 4, 3, 2, 1],\n",
    "                            [3, 4, 2, 5, 1, 6, 7],\n",
    "                            [5, 6, 4, 7, 3, 2, 1],])\n",
    "    print(preference)\n",
    "    preference = rank_to_score(preference)\n",
    "    # _, pref_idx = sort_preference_list(preference)\n",
    "    result_list ,_= crawler_algorithm(preference)\n",
    "    print(np.array(result_list)+1)\n",
    "\n",
    "def example_1_the_crawler():\n",
    "    \"\"\"\n",
    "        this example is a rank list of all objects, and the corresponding preference values\n",
    "    \"\"\"\n",
    "    example_rank = np.array([\n",
    "        [4,3,2,1],\n",
    "        [2,1,3,4],\n",
    "        [1,2,3,4],\n",
    "        [2,1,3,4]\n",
    "    ])\n",
    "    example_values = np.array([\n",
    "        [1,2,3,4],\n",
    "        [3,4,2,1],\n",
    "        [4,3,2,1],\n",
    "        [3,4,2,1]\n",
    "    ])\n",
    "    return example_rank, example_values\n"
   ]
  },
  {
   "cell_type": "code",
   "execution_count": 64,
   "id": "aac322d6",
   "metadata": {},
   "outputs": [
    {
     "name": "stdout",
     "output_type": "stream",
     "text": [
      "False\n",
      "True\n",
      "True\n"
     ]
    }
   ],
   "source": [
    "# check single-peak\n",
    "print(check_single_peaked(np.array([[1,3,3,4]])))\n",
    "print(check_single_peaked(example_1_the_crawler()[1]))\n",
    "print(check_single_peaked(rank_to_score(generate_single_peaked_preference(100))))\n"
   ]
  },
  {
   "cell_type": "code",
   "execution_count": 3,
   "id": "d12e6322",
   "metadata": {},
   "outputs": [],
   "source": [
    "\n",
    "import plotly.graph_objects as go\n",
    "import ipywidgets as widgets\n",
    "import pandas as pd"
   ]
  },
  {
   "cell_type": "code",
   "execution_count": 60,
   "id": "9d667445",
   "metadata": {},
   "outputs": [
    {
     "name": "stdout",
     "output_type": "stream",
     "text": [
      "[(1, 1), (2, 0), (3, 2), (0, 3)]\n"
     ]
    },
    {
     "data": {
      "application/vnd.plotly.v1+json": {
       "config": {
        "plotlyServerURL": "https://plot.ly"
       },
       "data": [
        {
         "mode": "lines+markers",
         "name": "agent 1",
         "type": "scatter",
         "x": [
          1,
          2,
          3,
          4
         ],
         "y": [
          1,
          2,
          3,
          4
         ]
        },
        {
         "mode": "lines+markers",
         "name": "agent 2",
         "type": "scatter",
         "x": [
          1,
          2,
          3,
          4
         ],
         "y": [
          3,
          4,
          2,
          1
         ]
        },
        {
         "mode": "lines+markers",
         "name": "agent 3",
         "type": "scatter",
         "x": [
          1,
          2,
          3,
          4
         ],
         "y": [
          4,
          3,
          2,
          1
         ]
        },
        {
         "mode": "lines+markers",
         "name": "agent 4",
         "type": "scatter",
         "x": [
          1,
          2,
          3,
          4
         ],
         "y": [
          3,
          4,
          2,
          1
         ]
        },
        {
         "hoverinfo": "text+name",
         "hovertext": "Match agent 2 with object 2",
         "marker": {
          "color": "LightSkyBlue",
          "line": {
           "color": "MediumPurple",
           "width": 2
          },
          "size": 20
         },
         "mode": "markers",
         "name": "match 1",
         "type": "scatter",
         "x": [
          2
         ],
         "y": [
          4
         ]
        },
        {
         "hoverinfo": "text+name",
         "hovertext": "Match agent 3 with object 1",
         "marker": {
          "color": "LightSkyBlue",
          "line": {
           "color": "MediumPurple",
           "width": 2
          },
          "size": 20
         },
         "mode": "markers",
         "name": "match 2",
         "type": "scatter",
         "x": [
          1
         ],
         "y": [
          4
         ]
        },
        {
         "hoverinfo": "text+name",
         "hovertext": "Match agent 4 with object 3",
         "marker": {
          "color": "LightSkyBlue",
          "line": {
           "color": "MediumPurple",
           "width": 2
          },
          "size": 20
         },
         "mode": "markers",
         "name": "match 3",
         "type": "scatter",
         "x": [
          3
         ],
         "y": [
          2
         ]
        },
        {
         "hoverinfo": "text+name",
         "hovertext": "Match agent 1 with object 4",
         "marker": {
          "color": "LightSkyBlue",
          "line": {
           "color": "MediumPurple",
           "width": 2
          },
          "size": 20
         },
         "mode": "markers",
         "name": "match 4",
         "type": "scatter",
         "x": [
          4
         ],
         "y": [
          4
         ]
        }
       ],
       "layout": {
        "template": {
         "data": {
          "bar": [
           {
            "error_x": {
             "color": "#2a3f5f"
            },
            "error_y": {
             "color": "#2a3f5f"
            },
            "marker": {
             "line": {
              "color": "#E5ECF6",
              "width": 0.5
             },
             "pattern": {
              "fillmode": "overlay",
              "size": 10,
              "solidity": 0.2
             }
            },
            "type": "bar"
           }
          ],
          "barpolar": [
           {
            "marker": {
             "line": {
              "color": "#E5ECF6",
              "width": 0.5
             },
             "pattern": {
              "fillmode": "overlay",
              "size": 10,
              "solidity": 0.2
             }
            },
            "type": "barpolar"
           }
          ],
          "carpet": [
           {
            "aaxis": {
             "endlinecolor": "#2a3f5f",
             "gridcolor": "white",
             "linecolor": "white",
             "minorgridcolor": "white",
             "startlinecolor": "#2a3f5f"
            },
            "baxis": {
             "endlinecolor": "#2a3f5f",
             "gridcolor": "white",
             "linecolor": "white",
             "minorgridcolor": "white",
             "startlinecolor": "#2a3f5f"
            },
            "type": "carpet"
           }
          ],
          "choropleth": [
           {
            "colorbar": {
             "outlinewidth": 0,
             "ticks": ""
            },
            "type": "choropleth"
           }
          ],
          "contour": [
           {
            "colorbar": {
             "outlinewidth": 0,
             "ticks": ""
            },
            "colorscale": [
             [
              0,
              "#0d0887"
             ],
             [
              0.1111111111111111,
              "#46039f"
             ],
             [
              0.2222222222222222,
              "#7201a8"
             ],
             [
              0.3333333333333333,
              "#9c179e"
             ],
             [
              0.4444444444444444,
              "#bd3786"
             ],
             [
              0.5555555555555556,
              "#d8576b"
             ],
             [
              0.6666666666666666,
              "#ed7953"
             ],
             [
              0.7777777777777778,
              "#fb9f3a"
             ],
             [
              0.8888888888888888,
              "#fdca26"
             ],
             [
              1,
              "#f0f921"
             ]
            ],
            "type": "contour"
           }
          ],
          "contourcarpet": [
           {
            "colorbar": {
             "outlinewidth": 0,
             "ticks": ""
            },
            "type": "contourcarpet"
           }
          ],
          "heatmap": [
           {
            "colorbar": {
             "outlinewidth": 0,
             "ticks": ""
            },
            "colorscale": [
             [
              0,
              "#0d0887"
             ],
             [
              0.1111111111111111,
              "#46039f"
             ],
             [
              0.2222222222222222,
              "#7201a8"
             ],
             [
              0.3333333333333333,
              "#9c179e"
             ],
             [
              0.4444444444444444,
              "#bd3786"
             ],
             [
              0.5555555555555556,
              "#d8576b"
             ],
             [
              0.6666666666666666,
              "#ed7953"
             ],
             [
              0.7777777777777778,
              "#fb9f3a"
             ],
             [
              0.8888888888888888,
              "#fdca26"
             ],
             [
              1,
              "#f0f921"
             ]
            ],
            "type": "heatmap"
           }
          ],
          "heatmapgl": [
           {
            "colorbar": {
             "outlinewidth": 0,
             "ticks": ""
            },
            "colorscale": [
             [
              0,
              "#0d0887"
             ],
             [
              0.1111111111111111,
              "#46039f"
             ],
             [
              0.2222222222222222,
              "#7201a8"
             ],
             [
              0.3333333333333333,
              "#9c179e"
             ],
             [
              0.4444444444444444,
              "#bd3786"
             ],
             [
              0.5555555555555556,
              "#d8576b"
             ],
             [
              0.6666666666666666,
              "#ed7953"
             ],
             [
              0.7777777777777778,
              "#fb9f3a"
             ],
             [
              0.8888888888888888,
              "#fdca26"
             ],
             [
              1,
              "#f0f921"
             ]
            ],
            "type": "heatmapgl"
           }
          ],
          "histogram": [
           {
            "marker": {
             "pattern": {
              "fillmode": "overlay",
              "size": 10,
              "solidity": 0.2
             }
            },
            "type": "histogram"
           }
          ],
          "histogram2d": [
           {
            "colorbar": {
             "outlinewidth": 0,
             "ticks": ""
            },
            "colorscale": [
             [
              0,
              "#0d0887"
             ],
             [
              0.1111111111111111,
              "#46039f"
             ],
             [
              0.2222222222222222,
              "#7201a8"
             ],
             [
              0.3333333333333333,
              "#9c179e"
             ],
             [
              0.4444444444444444,
              "#bd3786"
             ],
             [
              0.5555555555555556,
              "#d8576b"
             ],
             [
              0.6666666666666666,
              "#ed7953"
             ],
             [
              0.7777777777777778,
              "#fb9f3a"
             ],
             [
              0.8888888888888888,
              "#fdca26"
             ],
             [
              1,
              "#f0f921"
             ]
            ],
            "type": "histogram2d"
           }
          ],
          "histogram2dcontour": [
           {
            "colorbar": {
             "outlinewidth": 0,
             "ticks": ""
            },
            "colorscale": [
             [
              0,
              "#0d0887"
             ],
             [
              0.1111111111111111,
              "#46039f"
             ],
             [
              0.2222222222222222,
              "#7201a8"
             ],
             [
              0.3333333333333333,
              "#9c179e"
             ],
             [
              0.4444444444444444,
              "#bd3786"
             ],
             [
              0.5555555555555556,
              "#d8576b"
             ],
             [
              0.6666666666666666,
              "#ed7953"
             ],
             [
              0.7777777777777778,
              "#fb9f3a"
             ],
             [
              0.8888888888888888,
              "#fdca26"
             ],
             [
              1,
              "#f0f921"
             ]
            ],
            "type": "histogram2dcontour"
           }
          ],
          "mesh3d": [
           {
            "colorbar": {
             "outlinewidth": 0,
             "ticks": ""
            },
            "type": "mesh3d"
           }
          ],
          "parcoords": [
           {
            "line": {
             "colorbar": {
              "outlinewidth": 0,
              "ticks": ""
             }
            },
            "type": "parcoords"
           }
          ],
          "pie": [
           {
            "automargin": true,
            "type": "pie"
           }
          ],
          "scatter": [
           {
            "fillpattern": {
             "fillmode": "overlay",
             "size": 10,
             "solidity": 0.2
            },
            "type": "scatter"
           }
          ],
          "scatter3d": [
           {
            "line": {
             "colorbar": {
              "outlinewidth": 0,
              "ticks": ""
             }
            },
            "marker": {
             "colorbar": {
              "outlinewidth": 0,
              "ticks": ""
             }
            },
            "type": "scatter3d"
           }
          ],
          "scattercarpet": [
           {
            "marker": {
             "colorbar": {
              "outlinewidth": 0,
              "ticks": ""
             }
            },
            "type": "scattercarpet"
           }
          ],
          "scattergeo": [
           {
            "marker": {
             "colorbar": {
              "outlinewidth": 0,
              "ticks": ""
             }
            },
            "type": "scattergeo"
           }
          ],
          "scattergl": [
           {
            "marker": {
             "colorbar": {
              "outlinewidth": 0,
              "ticks": ""
             }
            },
            "type": "scattergl"
           }
          ],
          "scattermapbox": [
           {
            "marker": {
             "colorbar": {
              "outlinewidth": 0,
              "ticks": ""
             }
            },
            "type": "scattermapbox"
           }
          ],
          "scatterpolar": [
           {
            "marker": {
             "colorbar": {
              "outlinewidth": 0,
              "ticks": ""
             }
            },
            "type": "scatterpolar"
           }
          ],
          "scatterpolargl": [
           {
            "marker": {
             "colorbar": {
              "outlinewidth": 0,
              "ticks": ""
             }
            },
            "type": "scatterpolargl"
           }
          ],
          "scatterternary": [
           {
            "marker": {
             "colorbar": {
              "outlinewidth": 0,
              "ticks": ""
             }
            },
            "type": "scatterternary"
           }
          ],
          "surface": [
           {
            "colorbar": {
             "outlinewidth": 0,
             "ticks": ""
            },
            "colorscale": [
             [
              0,
              "#0d0887"
             ],
             [
              0.1111111111111111,
              "#46039f"
             ],
             [
              0.2222222222222222,
              "#7201a8"
             ],
             [
              0.3333333333333333,
              "#9c179e"
             ],
             [
              0.4444444444444444,
              "#bd3786"
             ],
             [
              0.5555555555555556,
              "#d8576b"
             ],
             [
              0.6666666666666666,
              "#ed7953"
             ],
             [
              0.7777777777777778,
              "#fb9f3a"
             ],
             [
              0.8888888888888888,
              "#fdca26"
             ],
             [
              1,
              "#f0f921"
             ]
            ],
            "type": "surface"
           }
          ],
          "table": [
           {
            "cells": {
             "fill": {
              "color": "#EBF0F8"
             },
             "line": {
              "color": "white"
             }
            },
            "header": {
             "fill": {
              "color": "#C8D4E3"
             },
             "line": {
              "color": "white"
             }
            },
            "type": "table"
           }
          ]
         },
         "layout": {
          "annotationdefaults": {
           "arrowcolor": "#2a3f5f",
           "arrowhead": 0,
           "arrowwidth": 1
          },
          "autotypenumbers": "strict",
          "coloraxis": {
           "colorbar": {
            "outlinewidth": 0,
            "ticks": ""
           }
          },
          "colorscale": {
           "diverging": [
            [
             0,
             "#8e0152"
            ],
            [
             0.1,
             "#c51b7d"
            ],
            [
             0.2,
             "#de77ae"
            ],
            [
             0.3,
             "#f1b6da"
            ],
            [
             0.4,
             "#fde0ef"
            ],
            [
             0.5,
             "#f7f7f7"
            ],
            [
             0.6,
             "#e6f5d0"
            ],
            [
             0.7,
             "#b8e186"
            ],
            [
             0.8,
             "#7fbc41"
            ],
            [
             0.9,
             "#4d9221"
            ],
            [
             1,
             "#276419"
            ]
           ],
           "sequential": [
            [
             0,
             "#0d0887"
            ],
            [
             0.1111111111111111,
             "#46039f"
            ],
            [
             0.2222222222222222,
             "#7201a8"
            ],
            [
             0.3333333333333333,
             "#9c179e"
            ],
            [
             0.4444444444444444,
             "#bd3786"
            ],
            [
             0.5555555555555556,
             "#d8576b"
            ],
            [
             0.6666666666666666,
             "#ed7953"
            ],
            [
             0.7777777777777778,
             "#fb9f3a"
            ],
            [
             0.8888888888888888,
             "#fdca26"
            ],
            [
             1,
             "#f0f921"
            ]
           ],
           "sequentialminus": [
            [
             0,
             "#0d0887"
            ],
            [
             0.1111111111111111,
             "#46039f"
            ],
            [
             0.2222222222222222,
             "#7201a8"
            ],
            [
             0.3333333333333333,
             "#9c179e"
            ],
            [
             0.4444444444444444,
             "#bd3786"
            ],
            [
             0.5555555555555556,
             "#d8576b"
            ],
            [
             0.6666666666666666,
             "#ed7953"
            ],
            [
             0.7777777777777778,
             "#fb9f3a"
            ],
            [
             0.8888888888888888,
             "#fdca26"
            ],
            [
             1,
             "#f0f921"
            ]
           ]
          },
          "colorway": [
           "#636efa",
           "#EF553B",
           "#00cc96",
           "#ab63fa",
           "#FFA15A",
           "#19d3f3",
           "#FF6692",
           "#B6E880",
           "#FF97FF",
           "#FECB52"
          ],
          "font": {
           "color": "#2a3f5f"
          },
          "geo": {
           "bgcolor": "white",
           "lakecolor": "white",
           "landcolor": "#E5ECF6",
           "showlakes": true,
           "showland": true,
           "subunitcolor": "white"
          },
          "hoverlabel": {
           "align": "left"
          },
          "hovermode": "closest",
          "mapbox": {
           "style": "light"
          },
          "paper_bgcolor": "white",
          "plot_bgcolor": "#E5ECF6",
          "polar": {
           "angularaxis": {
            "gridcolor": "white",
            "linecolor": "white",
            "ticks": ""
           },
           "bgcolor": "#E5ECF6",
           "radialaxis": {
            "gridcolor": "white",
            "linecolor": "white",
            "ticks": ""
           }
          },
          "scene": {
           "xaxis": {
            "backgroundcolor": "#E5ECF6",
            "gridcolor": "white",
            "gridwidth": 2,
            "linecolor": "white",
            "showbackground": true,
            "ticks": "",
            "zerolinecolor": "white"
           },
           "yaxis": {
            "backgroundcolor": "#E5ECF6",
            "gridcolor": "white",
            "gridwidth": 2,
            "linecolor": "white",
            "showbackground": true,
            "ticks": "",
            "zerolinecolor": "white"
           },
           "zaxis": {
            "backgroundcolor": "#E5ECF6",
            "gridcolor": "white",
            "gridwidth": 2,
            "linecolor": "white",
            "showbackground": true,
            "ticks": "",
            "zerolinecolor": "white"
           }
          },
          "shapedefaults": {
           "line": {
            "color": "#2a3f5f"
           }
          },
          "ternary": {
           "aaxis": {
            "gridcolor": "white",
            "linecolor": "white",
            "ticks": ""
           },
           "baxis": {
            "gridcolor": "white",
            "linecolor": "white",
            "ticks": ""
           },
           "bgcolor": "#E5ECF6",
           "caxis": {
            "gridcolor": "white",
            "linecolor": "white",
            "ticks": ""
           }
          },
          "title": {
           "x": 0.05
          },
          "xaxis": {
           "automargin": true,
           "gridcolor": "white",
           "linecolor": "white",
           "ticks": "",
           "title": {
            "standoff": 15
           },
           "zerolinecolor": "white",
           "zerolinewidth": 2
          },
          "yaxis": {
           "automargin": true,
           "gridcolor": "white",
           "linecolor": "white",
           "ticks": "",
           "title": {
            "standoff": 15
           },
           "zerolinecolor": "white",
           "zerolinewidth": 2
          }
         }
        },
        "xaxis": {
         "dtick": 1,
         "tick0": 0,
         "tickmode": "linear"
        },
        "yaxis": {
         "dtick": 1,
         "tick0": 0,
         "tickmode": "linear"
        }
       }
      },
      "text/html": [
       "<div>                            <div id=\"ee1da25f-faf7-4ff0-8d8d-57fa17655882\" class=\"plotly-graph-div\" style=\"height:525px; width:100%;\"></div>            <script type=\"text/javascript\">                require([\"plotly\"], function(Plotly) {                    window.PLOTLYENV=window.PLOTLYENV || {};                                    if (document.getElementById(\"ee1da25f-faf7-4ff0-8d8d-57fa17655882\")) {                    Plotly.newPlot(                        \"ee1da25f-faf7-4ff0-8d8d-57fa17655882\",                        [{\"mode\":\"lines+markers\",\"name\":\"agent 1\",\"x\":[1,2,3,4],\"y\":[1,2,3,4],\"type\":\"scatter\"},{\"mode\":\"lines+markers\",\"name\":\"agent 2\",\"x\":[1,2,3,4],\"y\":[3,4,2,1],\"type\":\"scatter\"},{\"mode\":\"lines+markers\",\"name\":\"agent 3\",\"x\":[1,2,3,4],\"y\":[4,3,2,1],\"type\":\"scatter\"},{\"mode\":\"lines+markers\",\"name\":\"agent 4\",\"x\":[1,2,3,4],\"y\":[3,4,2,1],\"type\":\"scatter\"},{\"hoverinfo\":\"text+name\",\"hovertext\":\"Match agent 2 with object 2\",\"marker\":{\"color\":\"LightSkyBlue\",\"line\":{\"color\":\"MediumPurple\",\"width\":2},\"size\":20},\"mode\":\"markers\",\"name\":\"match 1\",\"x\":[2],\"y\":[4],\"type\":\"scatter\"},{\"hoverinfo\":\"text+name\",\"hovertext\":\"Match agent 3 with object 1\",\"marker\":{\"color\":\"LightSkyBlue\",\"line\":{\"color\":\"MediumPurple\",\"width\":2},\"size\":20},\"mode\":\"markers\",\"name\":\"match 2\",\"x\":[1],\"y\":[4],\"type\":\"scatter\"},{\"hoverinfo\":\"text+name\",\"hovertext\":\"Match agent 4 with object 3\",\"marker\":{\"color\":\"LightSkyBlue\",\"line\":{\"color\":\"MediumPurple\",\"width\":2},\"size\":20},\"mode\":\"markers\",\"name\":\"match 3\",\"x\":[3],\"y\":[2],\"type\":\"scatter\"},{\"hoverinfo\":\"text+name\",\"hovertext\":\"Match agent 1 with object 4\",\"marker\":{\"color\":\"LightSkyBlue\",\"line\":{\"color\":\"MediumPurple\",\"width\":2},\"size\":20},\"mode\":\"markers\",\"name\":\"match 4\",\"x\":[4],\"y\":[4],\"type\":\"scatter\"}],                        {\"template\":{\"data\":{\"histogram2dcontour\":[{\"type\":\"histogram2dcontour\",\"colorbar\":{\"outlinewidth\":0,\"ticks\":\"\"},\"colorscale\":[[0.0,\"#0d0887\"],[0.1111111111111111,\"#46039f\"],[0.2222222222222222,\"#7201a8\"],[0.3333333333333333,\"#9c179e\"],[0.4444444444444444,\"#bd3786\"],[0.5555555555555556,\"#d8576b\"],[0.6666666666666666,\"#ed7953\"],[0.7777777777777778,\"#fb9f3a\"],[0.8888888888888888,\"#fdca26\"],[1.0,\"#f0f921\"]]}],\"choropleth\":[{\"type\":\"choropleth\",\"colorbar\":{\"outlinewidth\":0,\"ticks\":\"\"}}],\"histogram2d\":[{\"type\":\"histogram2d\",\"colorbar\":{\"outlinewidth\":0,\"ticks\":\"\"},\"colorscale\":[[0.0,\"#0d0887\"],[0.1111111111111111,\"#46039f\"],[0.2222222222222222,\"#7201a8\"],[0.3333333333333333,\"#9c179e\"],[0.4444444444444444,\"#bd3786\"],[0.5555555555555556,\"#d8576b\"],[0.6666666666666666,\"#ed7953\"],[0.7777777777777778,\"#fb9f3a\"],[0.8888888888888888,\"#fdca26\"],[1.0,\"#f0f921\"]]}],\"heatmap\":[{\"type\":\"heatmap\",\"colorbar\":{\"outlinewidth\":0,\"ticks\":\"\"},\"colorscale\":[[0.0,\"#0d0887\"],[0.1111111111111111,\"#46039f\"],[0.2222222222222222,\"#7201a8\"],[0.3333333333333333,\"#9c179e\"],[0.4444444444444444,\"#bd3786\"],[0.5555555555555556,\"#d8576b\"],[0.6666666666666666,\"#ed7953\"],[0.7777777777777778,\"#fb9f3a\"],[0.8888888888888888,\"#fdca26\"],[1.0,\"#f0f921\"]]}],\"heatmapgl\":[{\"type\":\"heatmapgl\",\"colorbar\":{\"outlinewidth\":0,\"ticks\":\"\"},\"colorscale\":[[0.0,\"#0d0887\"],[0.1111111111111111,\"#46039f\"],[0.2222222222222222,\"#7201a8\"],[0.3333333333333333,\"#9c179e\"],[0.4444444444444444,\"#bd3786\"],[0.5555555555555556,\"#d8576b\"],[0.6666666666666666,\"#ed7953\"],[0.7777777777777778,\"#fb9f3a\"],[0.8888888888888888,\"#fdca26\"],[1.0,\"#f0f921\"]]}],\"contourcarpet\":[{\"type\":\"contourcarpet\",\"colorbar\":{\"outlinewidth\":0,\"ticks\":\"\"}}],\"contour\":[{\"type\":\"contour\",\"colorbar\":{\"outlinewidth\":0,\"ticks\":\"\"},\"colorscale\":[[0.0,\"#0d0887\"],[0.1111111111111111,\"#46039f\"],[0.2222222222222222,\"#7201a8\"],[0.3333333333333333,\"#9c179e\"],[0.4444444444444444,\"#bd3786\"],[0.5555555555555556,\"#d8576b\"],[0.6666666666666666,\"#ed7953\"],[0.7777777777777778,\"#fb9f3a\"],[0.8888888888888888,\"#fdca26\"],[1.0,\"#f0f921\"]]}],\"surface\":[{\"type\":\"surface\",\"colorbar\":{\"outlinewidth\":0,\"ticks\":\"\"},\"colorscale\":[[0.0,\"#0d0887\"],[0.1111111111111111,\"#46039f\"],[0.2222222222222222,\"#7201a8\"],[0.3333333333333333,\"#9c179e\"],[0.4444444444444444,\"#bd3786\"],[0.5555555555555556,\"#d8576b\"],[0.6666666666666666,\"#ed7953\"],[0.7777777777777778,\"#fb9f3a\"],[0.8888888888888888,\"#fdca26\"],[1.0,\"#f0f921\"]]}],\"mesh3d\":[{\"type\":\"mesh3d\",\"colorbar\":{\"outlinewidth\":0,\"ticks\":\"\"}}],\"scatter\":[{\"fillpattern\":{\"fillmode\":\"overlay\",\"size\":10,\"solidity\":0.2},\"type\":\"scatter\"}],\"parcoords\":[{\"type\":\"parcoords\",\"line\":{\"colorbar\":{\"outlinewidth\":0,\"ticks\":\"\"}}}],\"scatterpolargl\":[{\"type\":\"scatterpolargl\",\"marker\":{\"colorbar\":{\"outlinewidth\":0,\"ticks\":\"\"}}}],\"bar\":[{\"error_x\":{\"color\":\"#2a3f5f\"},\"error_y\":{\"color\":\"#2a3f5f\"},\"marker\":{\"line\":{\"color\":\"#E5ECF6\",\"width\":0.5},\"pattern\":{\"fillmode\":\"overlay\",\"size\":10,\"solidity\":0.2}},\"type\":\"bar\"}],\"scattergeo\":[{\"type\":\"scattergeo\",\"marker\":{\"colorbar\":{\"outlinewidth\":0,\"ticks\":\"\"}}}],\"scatterpolar\":[{\"type\":\"scatterpolar\",\"marker\":{\"colorbar\":{\"outlinewidth\":0,\"ticks\":\"\"}}}],\"histogram\":[{\"marker\":{\"pattern\":{\"fillmode\":\"overlay\",\"size\":10,\"solidity\":0.2}},\"type\":\"histogram\"}],\"scattergl\":[{\"type\":\"scattergl\",\"marker\":{\"colorbar\":{\"outlinewidth\":0,\"ticks\":\"\"}}}],\"scatter3d\":[{\"type\":\"scatter3d\",\"line\":{\"colorbar\":{\"outlinewidth\":0,\"ticks\":\"\"}},\"marker\":{\"colorbar\":{\"outlinewidth\":0,\"ticks\":\"\"}}}],\"scattermapbox\":[{\"type\":\"scattermapbox\",\"marker\":{\"colorbar\":{\"outlinewidth\":0,\"ticks\":\"\"}}}],\"scatterternary\":[{\"type\":\"scatterternary\",\"marker\":{\"colorbar\":{\"outlinewidth\":0,\"ticks\":\"\"}}}],\"scattercarpet\":[{\"type\":\"scattercarpet\",\"marker\":{\"colorbar\":{\"outlinewidth\":0,\"ticks\":\"\"}}}],\"carpet\":[{\"aaxis\":{\"endlinecolor\":\"#2a3f5f\",\"gridcolor\":\"white\",\"linecolor\":\"white\",\"minorgridcolor\":\"white\",\"startlinecolor\":\"#2a3f5f\"},\"baxis\":{\"endlinecolor\":\"#2a3f5f\",\"gridcolor\":\"white\",\"linecolor\":\"white\",\"minorgridcolor\":\"white\",\"startlinecolor\":\"#2a3f5f\"},\"type\":\"carpet\"}],\"table\":[{\"cells\":{\"fill\":{\"color\":\"#EBF0F8\"},\"line\":{\"color\":\"white\"}},\"header\":{\"fill\":{\"color\":\"#C8D4E3\"},\"line\":{\"color\":\"white\"}},\"type\":\"table\"}],\"barpolar\":[{\"marker\":{\"line\":{\"color\":\"#E5ECF6\",\"width\":0.5},\"pattern\":{\"fillmode\":\"overlay\",\"size\":10,\"solidity\":0.2}},\"type\":\"barpolar\"}],\"pie\":[{\"automargin\":true,\"type\":\"pie\"}]},\"layout\":{\"autotypenumbers\":\"strict\",\"colorway\":[\"#636efa\",\"#EF553B\",\"#00cc96\",\"#ab63fa\",\"#FFA15A\",\"#19d3f3\",\"#FF6692\",\"#B6E880\",\"#FF97FF\",\"#FECB52\"],\"font\":{\"color\":\"#2a3f5f\"},\"hovermode\":\"closest\",\"hoverlabel\":{\"align\":\"left\"},\"paper_bgcolor\":\"white\",\"plot_bgcolor\":\"#E5ECF6\",\"polar\":{\"bgcolor\":\"#E5ECF6\",\"angularaxis\":{\"gridcolor\":\"white\",\"linecolor\":\"white\",\"ticks\":\"\"},\"radialaxis\":{\"gridcolor\":\"white\",\"linecolor\":\"white\",\"ticks\":\"\"}},\"ternary\":{\"bgcolor\":\"#E5ECF6\",\"aaxis\":{\"gridcolor\":\"white\",\"linecolor\":\"white\",\"ticks\":\"\"},\"baxis\":{\"gridcolor\":\"white\",\"linecolor\":\"white\",\"ticks\":\"\"},\"caxis\":{\"gridcolor\":\"white\",\"linecolor\":\"white\",\"ticks\":\"\"}},\"coloraxis\":{\"colorbar\":{\"outlinewidth\":0,\"ticks\":\"\"}},\"colorscale\":{\"sequential\":[[0.0,\"#0d0887\"],[0.1111111111111111,\"#46039f\"],[0.2222222222222222,\"#7201a8\"],[0.3333333333333333,\"#9c179e\"],[0.4444444444444444,\"#bd3786\"],[0.5555555555555556,\"#d8576b\"],[0.6666666666666666,\"#ed7953\"],[0.7777777777777778,\"#fb9f3a\"],[0.8888888888888888,\"#fdca26\"],[1.0,\"#f0f921\"]],\"sequentialminus\":[[0.0,\"#0d0887\"],[0.1111111111111111,\"#46039f\"],[0.2222222222222222,\"#7201a8\"],[0.3333333333333333,\"#9c179e\"],[0.4444444444444444,\"#bd3786\"],[0.5555555555555556,\"#d8576b\"],[0.6666666666666666,\"#ed7953\"],[0.7777777777777778,\"#fb9f3a\"],[0.8888888888888888,\"#fdca26\"],[1.0,\"#f0f921\"]],\"diverging\":[[0,\"#8e0152\"],[0.1,\"#c51b7d\"],[0.2,\"#de77ae\"],[0.3,\"#f1b6da\"],[0.4,\"#fde0ef\"],[0.5,\"#f7f7f7\"],[0.6,\"#e6f5d0\"],[0.7,\"#b8e186\"],[0.8,\"#7fbc41\"],[0.9,\"#4d9221\"],[1,\"#276419\"]]},\"xaxis\":{\"gridcolor\":\"white\",\"linecolor\":\"white\",\"ticks\":\"\",\"title\":{\"standoff\":15},\"zerolinecolor\":\"white\",\"automargin\":true,\"zerolinewidth\":2},\"yaxis\":{\"gridcolor\":\"white\",\"linecolor\":\"white\",\"ticks\":\"\",\"title\":{\"standoff\":15},\"zerolinecolor\":\"white\",\"automargin\":true,\"zerolinewidth\":2},\"scene\":{\"xaxis\":{\"backgroundcolor\":\"#E5ECF6\",\"gridcolor\":\"white\",\"linecolor\":\"white\",\"showbackground\":true,\"ticks\":\"\",\"zerolinecolor\":\"white\",\"gridwidth\":2},\"yaxis\":{\"backgroundcolor\":\"#E5ECF6\",\"gridcolor\":\"white\",\"linecolor\":\"white\",\"showbackground\":true,\"ticks\":\"\",\"zerolinecolor\":\"white\",\"gridwidth\":2},\"zaxis\":{\"backgroundcolor\":\"#E5ECF6\",\"gridcolor\":\"white\",\"linecolor\":\"white\",\"showbackground\":true,\"ticks\":\"\",\"zerolinecolor\":\"white\",\"gridwidth\":2}},\"shapedefaults\":{\"line\":{\"color\":\"#2a3f5f\"}},\"annotationdefaults\":{\"arrowcolor\":\"#2a3f5f\",\"arrowhead\":0,\"arrowwidth\":1},\"geo\":{\"bgcolor\":\"white\",\"landcolor\":\"#E5ECF6\",\"subunitcolor\":\"white\",\"showland\":true,\"showlakes\":true,\"lakecolor\":\"white\"},\"title\":{\"x\":0.05},\"mapbox\":{\"style\":\"light\"}}},\"xaxis\":{\"tickmode\":\"linear\",\"tick0\":0,\"dtick\":1},\"yaxis\":{\"tickmode\":\"linear\",\"tick0\":0,\"dtick\":1}},                        {\"responsive\": true}                    ).then(function(){\n",
       "                            \n",
       "var gd = document.getElementById('ee1da25f-faf7-4ff0-8d8d-57fa17655882');\n",
       "var x = new MutationObserver(function (mutations, observer) {{\n",
       "        var display = window.getComputedStyle(gd).display;\n",
       "        if (!display || display === 'none') {{\n",
       "            console.log([gd, 'removed!']);\n",
       "            Plotly.purge(gd);\n",
       "            observer.disconnect();\n",
       "        }}\n",
       "}});\n",
       "\n",
       "// Listen for the removal of the full notebook cells\n",
       "var notebookContainer = gd.closest('#notebook-container');\n",
       "if (notebookContainer) {{\n",
       "    x.observe(notebookContainer, {childList: true});\n",
       "}}\n",
       "\n",
       "// Listen for the clearing of the current output cell\n",
       "var outputEl = gd.closest('.output');\n",
       "if (outputEl) {{\n",
       "    x.observe(outputEl, {childList: true});\n",
       "}}\n",
       "\n",
       "                        })                };                });            </script>        </div>"
      ]
     },
     "metadata": {},
     "output_type": "display_data"
    }
   ],
   "source": [
    "# example 1 from \"The crawler\"\n",
    "preference = rank_to_score(example_1_the_crawler()[0])\n",
    "x = np.arange(1,len(preference)+1)\n",
    "result_list, preferneces = crawler_algorithm(preference)\n",
    "print(result_list)\n",
    "num = len(preference)\n",
    "fig = go.Figure()\n",
    "for i,pref in enumerate(preference):\n",
    "    fig.add_trace(go.Scatter(x=x, y=pref,\n",
    "                        mode='lines+markers',\n",
    "                        name=f'agent {i+1}'))\n",
    "for i,pref in enumerate(preference):\n",
    "    result = result_list[i]\n",
    "    fig.add_trace(go.Scatter(x=[result[1]+1], y=[preference[result[0]][result[1]]],\n",
    "                        mode='markers',\n",
    "                        marker=dict(\n",
    "                            color='LightSkyBlue',\n",
    "                            size=20,\n",
    "                            line=dict(\n",
    "                                color='MediumPurple',\n",
    "                                width=2\n",
    "                            )\n",
    "                        ),\n",
    "                        hovertext=f'Match agent {result[0]+1} with object {result[1]+1}',\n",
    "                        hoverinfo='text+name',\n",
    "                        name=f'match {i+1}'))\n",
    "fig.update_layout(\n",
    "    xaxis = dict(\n",
    "        tickmode = 'linear',\n",
    "        tick0 = 0,\n",
    "        dtick = 1\n",
    "    ),\n",
    "    yaxis = dict(\n",
    "        tickmode = 'linear',\n",
    "        tick0 = 0,\n",
    "        dtick = 1\n",
    "    ),\n",
    ")\n",
    "\n",
    "int_range = widgets.IntSlider(value=0,max=num,min=0)\n",
    "\n",
    "display(fig)"
   ]
  },
  {
   "cell_type": "code",
   "execution_count": 61,
   "id": "4ac0a571",
   "metadata": {},
   "outputs": [
    {
     "data": {
      "application/vnd.jupyter.widget-view+json": {
       "model_id": "722d700950a94ee0b9944de2ec952581",
       "version_major": 2,
       "version_minor": 0
      },
      "text/plain": [
       "VBox(children=(IntSlider(value=0, max=7), FigureWidget({\n",
       "    'data': [{'cells': {'fill': {'color': '#E8EDDF'},…"
      ]
     },
     "metadata": {},
     "output_type": "display_data"
    }
   ],
   "source": [
    "# example 1 from\n",
    "peak_id = np.array([7,2,7,6,7,3,5])-1\n",
    "num = len(peak_id)\n",
    "\n",
    "preference = generate_single_peaked_preference(num,peak_id)\n",
    "result_list, preferneces = crawler_algorithm(preference)\n",
    "agent_left = [[i for i in range(1,num) if i not in np.array(result_list)[:,0]] for r in range(len(result_list))]\n",
    "\n",
    "fig = go.FigureWidget(go.Figure(data=[go.Table(header=dict(values=list(range(1,8))),\n",
    "                 cells=dict(values=preference.T,fill={'color':'#E8EDDF'}))\n",
    "                     ]))\n",
    "i = 0\n",
    "\n",
    "int_range = widgets.IntSlider(value=0,max=num,min=0)\n",
    "output2 = widgets.Output()\n",
    "\n",
    "# display(int_range, output2)\n",
    "def map_color(i):\n",
    "    if i ==0:\n",
    "        color_change_cells = np.array([])\n",
    "    else:\n",
    "        color_change_cells = np.array(result_list[:i])\n",
    "    # print(color_change_cells)\n",
    "    fill_color = []\n",
    "    for row in range(num):\n",
    "        row_colors = []\n",
    "        for col in range(num):\n",
    "            if len(color_change_cells) == 0:\n",
    "                row_colors.append('#E8EDDF')\n",
    "            else:\n",
    "                if [col,row] in color_change_cells.tolist():\n",
    "                    row_colors.append('#F5CB5C')\n",
    "                elif col in color_change_cells[:,0] or row in color_change_cells[:,1]:\n",
    "                    row_colors.append('#CFDBD5')\n",
    "                else: # base\n",
    "                    row_colors.append('#E8EDDF')\n",
    "        fill_color.append(row_colors)\n",
    "    # print(fill_color)\n",
    "    return fill_color\n",
    "def on_value_change(change):\n",
    "    fill_color = map_color(change['new'])\n",
    "    fig.update_traces( {'cells': {'fill': {'color': fill_color}},})\n",
    "    with output2:\n",
    "        print(result_list[:change['new']])\n",
    "\n",
    "int_range.observe(on_value_change, names='value')\n",
    "visual_tab  = widgets.VBox([\n",
    "    int_range,fig])\n",
    "display(visual_tab)"
   ]
  },
  {
   "cell_type": "code",
   "execution_count": 67,
   "id": "5677d9af",
   "metadata": {},
   "outputs": [
    {
     "name": "stdout",
     "output_type": "stream",
     "text": [
      "[[7 6 5 4 3 2 1]\n",
      " [2 3 1 4 5 6 7]\n",
      " [7 6 5 4 3 2 1]\n",
      " [5 7 6 4 3 2 1]\n",
      " [7 6 5 4 3 2 1]\n",
      " [3 4 2 5 1 6 7]\n",
      " [5 6 4 7 3 2 1]]\n",
      "[[2 2]\n",
      " [6 3]\n",
      " [4 5]\n",
      " [7 6]\n",
      " [5 7]\n",
      " [3 4]\n",
      " [1 1]]\n"
     ]
    }
   ],
   "source": [
    "verify_example_1()"
   ]
  },
  {
   "cell_type": "code",
   "execution_count": null,
   "id": "6480d579",
   "metadata": {},
   "outputs": [],
   "source": []
  }
 ],
 "metadata": {
  "kernelspec": {
   "display_name": "Python 3.9.13 ('ist597')",
   "language": "python",
   "name": "python3"
  },
  "language_info": {
   "codemirror_mode": {
    "name": "ipython",
    "version": 3
   },
   "file_extension": ".py",
   "mimetype": "text/x-python",
   "name": "python",
   "nbconvert_exporter": "python",
   "pygments_lexer": "ipython3",
   "version": "3.9.13"
  },
  "vscode": {
   "interpreter": {
    "hash": "ca0f6d85375d60f6204b81a3976b9abddb8039485fb1ab3aedddef8a8d4a445b"
   }
  }
 },
 "nbformat": 4,
 "nbformat_minor": 5
}
