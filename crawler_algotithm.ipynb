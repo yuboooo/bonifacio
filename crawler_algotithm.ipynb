{
 "cells": [
  {
   "cell_type": "code",
   "execution_count": 1,
   "id": "3dd5f622",
   "metadata": {},
   "outputs": [],
   "source": [
    "import json\n",
    "import os\n",
    "import numpy as np"
   ]
  },
  {
   "cell_type": "code",
   "execution_count": 2,
   "id": "30e82a0a",
   "metadata": {},
   "outputs": [],
   "source": [
    "def generate_single_peaked_preference(num, peak_id = None):\n",
    "    \"\"\"\n",
    "        input\n",
    "            num: number of agent and items\n",
    "            peak_id: numpy.array of size num\n",
    "                must start from 0\n",
    "        return\n",
    "            preference of size num x num \n",
    "            e.g.,\n",
    "             i1 i2 i3 i4 i5 i6 i7 i8\n",
    "            [[8, 7, 6, 5, 4, 3, 2, 1], a1\n",
    "             [7, 8, 7, 6, 5, 4, 3, 2], a2\n",
    "             [6, 7, 8, 7, 6, 5, 4, 3], a3\n",
    "             [3, 4, 5, 6, 7, 8, 7, 6], a4\n",
    "             [2, 3, 4, 5, 6, 7, 8, 7], a5\n",
    "             [1, 2, 3, 4, 5, 6, 7, 8], a6\n",
    "             [1, 2, 3, 4, 5, 6, 7, 8], a7\n",
    "             [1, 2, 3, 4, 5, 6, 7, 8]] a8\n",
    "            and\n",
    "            it<i{t+1}, at<a{t+1}\n",
    "             \n",
    "            \n",
    "\n",
    "    \"\"\"\n",
    "    if peak_id is None:\n",
    "        peak_id =np.random.choice(num,num,replace=True)\n",
    "    # sort_id = np.argsort(peak_id)\n",
    "    peak_id = np.expand_dims(peak_id,1)+1\n",
    "    pref = np.repeat(np.expand_dims(np.linspace(1,num,num,dtype=int),0),num,axis=0)\n",
    "    pref = num-np.abs(pref - peak_id)\n",
    "    \n",
    "    return pref\n",
    "\n",
    "# def sort_preference_list(preference):\n",
    "#     if preference.shape[0]==0:\n",
    "#         return preference\n",
    "#     pref_id = np.argmax(preference,axis=1)\n",
    "#     return preference[pref_id,:], pref_id\n",
    "\n",
    "def correct_idx(current_match,matches):\n",
    "    store_match = current_match\n",
    "    for match in matches[-1::-1]:\n",
    "        if match[0] <= current_match[0]:\n",
    "            current_match = current_match[0]+1,current_match[1]\n",
    "        if match[1] <= current_match[1]:\n",
    "            current_match = current_match[0],current_match[1]+1\n",
    "    matches.append(store_match)\n",
    "    return current_match, matches\n",
    "\n",
    "def crawler_step(preference,matches):\n",
    "    num_agents,num_items = preference.shape\n",
    "    if num_agents == 0:\n",
    "        return None\n",
    "    # (1) if ot ≻it ot+1 holds for some t, let t∗ be the minimal such t\n",
    "    # this means argmin_t(preference[t,t] > preference[t,t+1])\n",
    "    \n",
    "    # preference[t,t] > preference[t,t+1]\n",
    "    screening = (preference.diagonal(offset=1)-preference.diagonal()[:-1])<0 # agent who (c1) does not want to move to larger one\n",
    "    # check if (1) is possible\n",
    "    if screening.sum() == 0:\n",
    "        t_star = num_agents-1 # if no such agent (c1)\n",
    "    else:\n",
    "        t_star = np.argmax(screening) # if there is such agent (c1)\n",
    "    agent_t_start_choice = np.argmax(preference[t_star]) # the agent's best choice\n",
    "    next_preference = np.delete(preference, t_star, 0) # remove agent from the preference list\n",
    "    next_preference = np.delete(next_preference, agent_t_start_choice, 1) # remove item from the preference list\n",
    "    (t_star,agent_t_start_choice), matches = correct_idx((t_star,agent_t_start_choice),matches=matches) # correct index since the preference list is smaller\n",
    "    return next_preference,t_star,agent_t_start_choice, matches\n",
    "\n",
    "def crawler_algorithm(preference):\n",
    "    matches = []\n",
    "    result = crawler_step(preference,matches)\n",
    "    preferences = [preference]\n",
    "    preference = result[0]\n",
    "    result_list = [result[1:3]]\n",
    "    while result is not None:\n",
    "        result = crawler_step(preference,matches)\n",
    "        if result is not None:\n",
    "            preference = result[0]\n",
    "            preferences.append(result[0])\n",
    "            matches = result[-1]\n",
    "            result_list.append(result[1:3])\n",
    "    return result_list, preferences\n",
    "\n",
    "def verify_example_1():\n",
    "    peak_id = np.array([7,2,7,6,7,3,5])-1\n",
    "    num = len(peak_id)\n",
    "    preference = generate_single_peaked_preference(num,peak_id)\n",
    "    print(preference)\n",
    "    # _, pref_idx = sort_preference_list(preference)\n",
    "    result_list ,_= crawler_algorithm(preference)\n",
    "    print(np.array(result_list)+1)\n"
   ]
  },
  {
   "cell_type": "code",
   "execution_count": 4,
   "id": "28b09f4f",
   "metadata": {},
   "outputs": [
    {
     "name": "stdout",
     "output_type": "stream",
     "text": [
      "One-to-one: True\n"
     ]
    }
   ],
   "source": [
    "preference = generate_single_peaked_preference(20)\n",
    "result_list,_ = crawler_algorithm(preference)\n",
    "# verify one-to-one\n",
    "print(\"One-to-one:\",np.unique(np.array(result_list)[:,0]).shape[0] == len(result_list) and np.unique(np.array(result_list)[:,1]).shape[0] == len(result_list))\n"
   ]
  },
  {
   "cell_type": "code",
   "execution_count": 5,
   "id": "b149028d",
   "metadata": {},
   "outputs": [
    {
     "name": "stdout",
     "output_type": "stream",
     "text": [
      "[[1 2 3 4 5 6 7]\n",
      " [6 7 6 5 4 3 2]\n",
      " [1 2 3 4 5 6 7]\n",
      " [2 3 4 5 6 7 6]\n",
      " [1 2 3 4 5 6 7]\n",
      " [5 6 7 6 5 4 3]\n",
      " [3 4 5 6 7 6 5]]\n",
      "[[2 2]\n",
      " [6 3]\n",
      " [7 5]\n",
      " [4 6]\n",
      " [5 7]\n",
      " [3 4]\n",
      " [1 1]]\n"
     ]
    }
   ],
   "source": [
    "verify_example_1()"
   ]
  },
  {
   "cell_type": "code",
   "execution_count": 6,
   "id": "d12e6322",
   "metadata": {},
   "outputs": [],
   "source": [
    "\n",
    "import plotly.graph_objects as go\n",
    "import ipywidgets as widgets\n",
    "import pandas as pd"
   ]
  },
  {
   "cell_type": "code",
   "execution_count": 9,
   "id": "4ac0a571",
   "metadata": {},
   "outputs": [
    {
     "data": {
      "application/vnd.jupyter.widget-view+json": {
       "model_id": "0da18b37c9b44b25af109de6051f5fa2",
       "version_major": 2,
       "version_minor": 0
      },
      "text/plain": [
       "VBox(children=(IntSlider(value=0, max=7), FigureWidget({\n",
       "    'data': [{'cells': {'fill': {'color': '#E8EDDF'},…"
      ]
     },
     "metadata": {},
     "output_type": "display_data"
    }
   ],
   "source": [
    "peak_id = np.array([7,2,7,6,7,3,5])-1\n",
    "num = len(peak_id)\n",
    "\n",
    "preference = generate_single_peaked_preference(num,peak_id)\n",
    "result_list, preferneces = crawler_algorithm(preference)\n",
    "agent_left = [[i for i in range(1,num) if i not in np.array(result_list)[:,0]] for r in range(len(result_list))]\n",
    "\n",
    "fig = go.FigureWidget(go.Figure(data=[go.Table(header=dict(values=list(range(1,8))),\n",
    "                 cells=dict(values=preference,fill={'color':'#E8EDDF'}))\n",
    "                     ]))\n",
    "i = 0\n",
    "\n",
    "int_range = widgets.IntSlider(value=0,max=num,min=0)\n",
    "output2 = widgets.Output()\n",
    "\n",
    "# display(int_range, output2)\n",
    "def map_color(i):\n",
    "    if i ==0:\n",
    "        color_change_cells = np.array([])\n",
    "    else:\n",
    "        color_change_cells = np.array(result_list[:i])\n",
    "    # print(color_change_cells)\n",
    "    fill_color = []\n",
    "    for row in range(num):\n",
    "        row_colors = []\n",
    "        for col in range(num):\n",
    "            if len(color_change_cells) == 0:\n",
    "                row_colors.append('#E8EDDF')\n",
    "            else:\n",
    "                if [col,row] in color_change_cells.tolist():\n",
    "                    row_colors.append('#F5CB5C')\n",
    "                elif col in color_change_cells[:,0] or row in color_change_cells[:,1]:\n",
    "                    row_colors.append('#CFDBD5')\n",
    "                else: # base\n",
    "                    row_colors.append('#E8EDDF')\n",
    "        fill_color.append(row_colors)\n",
    "    # print(fill_color)\n",
    "    return fill_color\n",
    "def on_value_change(change):\n",
    "    fill_color = map_color(change['new'])\n",
    "    fig.update_traces( {'cells': {'fill': {'color': fill_color}},})\n",
    "    with output2:\n",
    "        print(result_list[:change['new']])\n",
    "\n",
    "int_range.observe(on_value_change, names='value')\n",
    "visual_tab  = widgets.VBox([\n",
    "    int_range,fig])\n",
    "display(visual_tab)"
   ]
  },
  {
   "cell_type": "code",
   "execution_count": 8,
   "id": "a9b0d2d9",
   "metadata": {},
   "outputs": [
    {
     "data": {
      "application/vnd.jupyter.widget-view+json": {
       "model_id": "fdd9c7ea9f7d41b3b8b231d265ef0c26",
       "version_major": 2,
       "version_minor": 0
      },
      "text/plain": [
       "Textarea(value='Hello World', description='String:', layout=Layout(height='80px', width='50%'), placeholder='T…"
      ]
     },
     "execution_count": 8,
     "metadata": {},
     "output_type": "execute_result"
    }
   ],
   "source": [
    "widgets.Textarea(\n",
    "    value='Hello World',\n",
    "    placeholder='Type something',\n",
    "    description='String:',\n",
    "    disabled=False,\n",
    "    layout=widgets.Layout(width='50%', height='80px')\n",
    ")"
   ]
  },
  {
   "cell_type": "code",
   "execution_count": 133,
   "id": "23ddadee",
   "metadata": {},
   "outputs": [
    {
     "data": {
      "text/plain": [
       "<bound method BaseFigure.__contains__ of FigureWidget({\n",
       "    'data': [{'cells': {'fill': {'color': [['#ffffff'], ['#666666'], ['#ffffff'],\n",
       "                                           ['#ffffff'], ['#ffffff'], ['#ffffff'],\n",
       "                                           ['#ffffff'], ['#666666'], ['#660000'],\n",
       "                                           ['#666666'], ['#666666'], ['#666666'],\n",
       "                                           ['#666666'], ['#666666'], ['#ffffff'],\n",
       "                                           ['#666666'], ['#ffffff'], ['#ffffff'],\n",
       "                                           ['#ffffff'], ['#ffffff'], ['#ffffff'],\n",
       "                                           ['#ffffff'], ['#666666'], ['#ffffff'],\n",
       "                                           ['#ffffff'], ['#ffffff'], ['#ffffff'],\n",
       "                                           ['#ffffff'], ['#ffffff'], ['#666666'],\n",
       "                                           ['#ffffff'], ['#ffffff'], ['#ffffff'],\n",
       "                                           ['#ffffff'], ['#ffffff'], ['#ffffff'],\n",
       "                                           ['#666666'], ['#ffffff'], ['#ffffff'],\n",
       "                                           ['#ffffff'], ['#ffffff'], ['#ffffff'],\n",
       "                                           ['#ffffff'], ['#666666'], ['#ffffff'],\n",
       "                                           ['#ffffff'], ['#ffffff'], ['#ffffff'],\n",
       "                                           ['#ffffff']]},\n",
       "                        'values': array([[1, 2, 3, 4, 5, 6, 7],\n",
       "                                         [6, 7, 6, 5, 4, 3, 2],\n",
       "                                         [1, 2, 3, 4, 5, 6, 7],\n",
       "                                         [2, 3, 4, 5, 6, 7, 6],\n",
       "                                         [1, 2, 3, 4, 5, 6, 7],\n",
       "                                         [5, 6, 7, 6, 5, 4, 3],\n",
       "                                         [3, 4, 5, 6, 7, 6, 5]])},\n",
       "              'header': {'values': [1, 2, 3, 4, 5, 6, 7]},\n",
       "              'type': 'table',\n",
       "              'uid': '7a5cdba4-fc78-4252-bbd7-b8cfd4c390b5'}],\n",
       "    'layout': {'autosize': True, 'template': '...'}\n",
       "})>"
      ]
     },
     "execution_count": 133,
     "metadata": {},
     "output_type": "execute_result"
    }
   ],
   "source": [
    "fig.__contains__"
   ]
  }
 ],
 "metadata": {
  "kernelspec": {
   "display_name": "Python 3.9.13 ('ist597')",
   "language": "python",
   "name": "python3"
  },
  "language_info": {
   "codemirror_mode": {
    "name": "ipython",
    "version": 3
   },
   "file_extension": ".py",
   "mimetype": "text/x-python",
   "name": "python",
   "nbconvert_exporter": "python",
   "pygments_lexer": "ipython3",
   "version": "3.9.13"
  },
  "vscode": {
   "interpreter": {
    "hash": "ca0f6d85375d60f6204b81a3976b9abddb8039485fb1ab3aedddef8a8d4a445b"
   }
  }
 },
 "nbformat": 4,
 "nbformat_minor": 5
}
