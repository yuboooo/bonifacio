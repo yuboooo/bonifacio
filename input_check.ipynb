{
 "cells": [
  {
   "cell_type": "code",
   "execution_count": 14,
   "metadata": {},
   "outputs": [],
   "source": [
    "firms_prefs = {\n",
    "                        1: [[1,2],[1,5],[2,5],[1,3],[4,5],[2,4],[1,4],[3,4],[3,5],[2,3],[1],[4],[3],[2],[5]],\n",
    "                        2: [[3,6],[3,5],[5,6],[2,5],[1,3],[2,6],[1,5],[1,2],[2,3],[1,6],[1],[2],[3],[5],[6]],\n",
    "                        3: [[2,4],[1,2],[3,4],[2,3],[1,3],[1,4],[1],[2],[3],[4]]\n",
    "              }\n",
    "\n",
    "workers_prefs = {\n",
    "                        1: [[3],[1],[2]],\n",
    "                        2: [[2,3],[1,3],[1,2],[1],[2],[3]],\n",
    "                        3: [[1],[2]],\n",
    "                        4: [[1],[3],[2]],\n",
    "                        5: [[2],[3]],\n",
    "                        6: [[1,3],[3],[1]]\n",
    "                }"
   ]
  },
  {
   "cell_type": "code",
   "execution_count": 7,
   "metadata": {},
   "outputs": [],
   "source": [
    "def substitutability(pref):\n",
    "    check = True\n",
    "    for workers in pref.values():\n",
    "        flag = False\n",
    "        if len(workers[0]) <= 1:\n",
    "            flag = True\n",
    "        else:\n",
    "            for w in workers[0]:\n",
    "                if w in workers[1]:\n",
    "                    flag = True\n",
    "        check = check and flag\n",
    "    return check \n",
    "\n",
    "\n",
    "\n",
    "\n",
    "\n",
    "def lad(fp, wp):\n",
    "    pass\n"
   ]
  },
  {
   "cell_type": "code",
   "execution_count": 15,
   "metadata": {},
   "outputs": [
    {
     "data": {
      "text/plain": [
       "False"
      ]
     },
     "execution_count": 15,
     "metadata": {},
     "output_type": "execute_result"
    }
   ],
   "source": [
    "substitutability(firms_prefs)"
   ]
  }
 ],
 "metadata": {
  "kernelspec": {
   "display_name": "Python 3.8.10 64-bit",
   "language": "python",
   "name": "python3"
  },
  "language_info": {
   "codemirror_mode": {
    "name": "ipython",
    "version": 3
   },
   "file_extension": ".py",
   "mimetype": "text/x-python",
   "name": "python",
   "nbconvert_exporter": "python",
   "pygments_lexer": "ipython3",
   "version": "3.8.10"
  },
  "orig_nbformat": 4,
  "vscode": {
   "interpreter": {
    "hash": "aee8b7b246df8f9039afb4144a1f6fd8d2ca17a180786b69acc140d282b71a49"
   }
  }
 },
 "nbformat": 4,
 "nbformat_minor": 2
}
